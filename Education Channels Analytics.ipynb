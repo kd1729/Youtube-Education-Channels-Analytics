{
 "cells": [
  {
   "cell_type": "markdown",
   "id": "754101f0",
   "metadata": {},
   "source": [
    "# Use of Google Youtube Analytics API for Analysis of my favourite 5 youtube channels that helped me during my college life"
   ]
  },
  {
   "cell_type": "code",
   "execution_count": 1,
   "id": "b71aa465",
   "metadata": {
    "scrolled": true
   },
   "outputs": [
    {
     "name": "stdout",
     "output_type": "stream",
     "text": [
      "Requirement already satisfied: google-api-python-client in c:\\users\\kaust\\anaconda3\\lib\\site-packages (2.44.0)\n",
      "Requirement already satisfied: httplib2<1dev,>=0.15.0 in c:\\users\\kaust\\anaconda3\\lib\\site-packages (from google-api-python-client) (0.20.4)\n",
      "Requirement already satisfied: google-auth-httplib2>=0.1.0 in c:\\users\\kaust\\anaconda3\\lib\\site-packages (from google-api-python-client) (0.1.0)\n",
      "Requirement already satisfied: google-api-core!=2.0.*,!=2.1.*,!=2.2.*,!=2.3.0,<3.0.0dev,>=1.31.5 in c:\\users\\kaust\\anaconda3\\lib\\site-packages (from google-api-python-client) (2.7.2)\n",
      "Requirement already satisfied: uritemplate<5,>=3.0.1 in c:\\users\\kaust\\anaconda3\\lib\\site-packages (from google-api-python-client) (4.1.1)\n",
      "Note: you may need to restart the kernel to use updated packages.\n",
      "Requirement already satisfied: google-auth<3.0.0dev,>=1.16.0 in c:\\users\\kaust\\anaconda3\\lib\\site-packages (from google-api-python-client) (2.3.3)\n",
      "Requirement already satisfied: googleapis-common-protos<2.0dev,>=1.52.0 in c:\\users\\kaust\\anaconda3\\lib\\site-packages (from google-api-core!=2.0.*,!=2.1.*,!=2.2.*,!=2.3.0,<3.0.0dev,>=1.31.5->google-api-python-client) (1.56.0)\n",
      "Requirement already satisfied: protobuf>=3.12.0 in c:\\users\\kaust\\anaconda3\\lib\\site-packages (from google-api-core!=2.0.*,!=2.1.*,!=2.2.*,!=2.3.0,<3.0.0dev,>=1.31.5->google-api-python-client) (3.19.3)\n",
      "Requirement already satisfied: requests<3.0.0dev,>=2.18.0 in c:\\users\\kaust\\anaconda3\\lib\\site-packages (from google-api-core!=2.0.*,!=2.1.*,!=2.2.*,!=2.3.0,<3.0.0dev,>=1.31.5->google-api-python-client) (2.26.0)\n",
      "Requirement already satisfied: cachetools<5.0,>=2.0.0 in c:\\users\\kaust\\anaconda3\\lib\\site-packages (from google-auth<3.0.0dev,>=1.16.0->google-api-python-client) (4.2.4)\n",
      "Requirement already satisfied: rsa<5,>=3.1.4 in c:\\users\\kaust\\anaconda3\\lib\\site-packages (from google-auth<3.0.0dev,>=1.16.0->google-api-python-client) (4.8)\n",
      "Requirement already satisfied: pyasn1-modules>=0.2.1 in c:\\users\\kaust\\anaconda3\\lib\\site-packages (from google-auth<3.0.0dev,>=1.16.0->google-api-python-client) (0.2.8)\n",
      "Requirement already satisfied: six>=1.9.0 in c:\\users\\kaust\\anaconda3\\lib\\site-packages (from google-auth<3.0.0dev,>=1.16.0->google-api-python-client) (1.16.0)\n",
      "Requirement already satisfied: setuptools>=40.3.0 in c:\\users\\kaust\\anaconda3\\lib\\site-packages (from google-auth<3.0.0dev,>=1.16.0->google-api-python-client) (58.0.4)\n",
      "Requirement already satisfied: pyparsing!=3.0.0,!=3.0.1,!=3.0.2,!=3.0.3,<4,>=2.4.2 in c:\\users\\kaust\\anaconda3\\lib\\site-packages (from httplib2<1dev,>=0.15.0->google-api-python-client) (3.0.4)\n",
      "Requirement already satisfied: pyasn1<0.5.0,>=0.4.6 in c:\\users\\kaust\\anaconda3\\lib\\site-packages (from pyasn1-modules>=0.2.1->google-auth<3.0.0dev,>=1.16.0->google-api-python-client) (0.4.8)\n",
      "Requirement already satisfied: urllib3<1.27,>=1.21.1 in c:\\users\\kaust\\anaconda3\\lib\\site-packages (from requests<3.0.0dev,>=2.18.0->google-api-core!=2.0.*,!=2.1.*,!=2.2.*,!=2.3.0,<3.0.0dev,>=1.31.5->google-api-python-client) (1.26.7)\n",
      "Requirement already satisfied: charset-normalizer~=2.0.0 in c:\\users\\kaust\\anaconda3\\lib\\site-packages (from requests<3.0.0dev,>=2.18.0->google-api-core!=2.0.*,!=2.1.*,!=2.2.*,!=2.3.0,<3.0.0dev,>=1.31.5->google-api-python-client) (2.0.4)\n",
      "Requirement already satisfied: certifi>=2017.4.17 in c:\\users\\kaust\\anaconda3\\lib\\site-packages (from requests<3.0.0dev,>=2.18.0->google-api-core!=2.0.*,!=2.1.*,!=2.2.*,!=2.3.0,<3.0.0dev,>=1.31.5->google-api-python-client) (2021.10.8)\n",
      "Requirement already satisfied: idna<4,>=2.5 in c:\\users\\kaust\\anaconda3\\lib\\site-packages (from requests<3.0.0dev,>=2.18.0->google-api-core!=2.0.*,!=2.1.*,!=2.2.*,!=2.3.0,<3.0.0dev,>=1.31.5->google-api-python-client) (3.2)\n"
     ]
    }
   ],
   "source": [
    "pip install google-api-python-client \n"
   ]
  },
  {
   "cell_type": "markdown",
   "id": "82b23608",
   "metadata": {},
   "source": [
    "## My favourite 5 youtube channels for college subjects \n",
    "<ol>\n",
    "<li> 5MinEngineering-------->UCyHta2dyCTkf29AB67AYn7A \n",
    "<li> GateSmashers----------->UCJihyK0A38SZ6SdJirEdIOw\n",
    "<li> NesoAcademy------------>UCQYMhOMi_Cdj1CEAU-fv80A\n",
    "<li> Education4U------------>UCKS34cSMNaXaySe2xgXH-3A\n",
    "<li> KnowledgeGate---------->UCA6yfpYhy5sWMjRGOT-OAIQ\n",
    "</ol>"
   ]
  },
  {
   "cell_type": "code",
   "execution_count": 2,
   "id": "92526540",
   "metadata": {},
   "outputs": [],
   "source": [
    "from googleapiclient.discovery import build\n",
    "import pandas as pd\n",
    "import seaborn as sns"
   ]
  },
  {
   "cell_type": "code",
   "execution_count": 3,
   "id": "1aebbc3f",
   "metadata": {},
   "outputs": [],
   "source": [
    "api_key = 'XXXXXXXXXXXXXXXXXXXXXXXXXXX'\n",
    "channel_ids = [\"UCyHta2dyCTkf29AB67AYn7A\",\"UCJihyK0A38SZ6SdJirEdIOw\",\"UCQYMhOMi_Cdj1CEAU-fv80A\",\"UCKS34cSMNaXaySe2xgXH-3A\",\"UCA6yfpYhy5sWMjRGOT-OAIQ\"]"
   ]
  },
  {
   "cell_type": "markdown",
   "id": "bf76019f",
   "metadata": {},
   "source": [
    "### Getting credentials using api key to setup Youtube service"
   ]
  },
  {
   "cell_type": "code",
   "execution_count": 4,
   "id": "90bf0415",
   "metadata": {},
   "outputs": [],
   "source": [
    "youtube = build(\"youtube\",'v3', developerKey = api_key)\n"
   ]
  },
  {
   "cell_type": "markdown",
   "id": "195c0e2f",
   "metadata": {},
   "source": [
    "### Defining a function to make service calls"
   ]
  },
  {
   "cell_type": "code",
   "execution_count": 5,
   "id": "99d54c0a",
   "metadata": {},
   "outputs": [],
   "source": [
    "def get_channel_details(youtube,channel_id):\n",
    "    all_data= []\n",
    "    request = youtube.channels().list(\n",
    "        part=\"snippet,contentDetails,statistics\",\n",
    "        id= channel_ids\n",
    "    )\n",
    "    response = request.execute()\n",
    "    for i in range(len(response['items'])):\n",
    "    \n",
    "        data = dict(Channel_Name=response['items'][i]['snippet']['title'], Views_Count = response['items'][i]['statistics']['viewCount'],Subscriber_Count = response['items'][i]['statistics']['subscriberCount'],videos_posted = response['items'][i]['statistics']['videoCount']\n",
    "                    ,playlist_id= response['items'][i]['contentDetails']['relatedPlaylists']['uploads'])\n",
    "        all_data.append(data)\n",
    "    return all_data\n"
   ]
  },
  {
   "cell_type": "code",
   "execution_count": 6,
   "id": "9c7cabee",
   "metadata": {},
   "outputs": [],
   "source": [
    "Channel_Statistics=get_channel_details(youtube,channel_ids)"
   ]
  },
  {
   "cell_type": "markdown",
   "id": "4c4c9d32",
   "metadata": {},
   "source": [
    "### Creating a data frame to perform analysis\n"
   ]
  },
  {
   "cell_type": "code",
   "execution_count": 7,
   "id": "7ca91c0f",
   "metadata": {},
   "outputs": [],
   "source": [
    "channel_data = pd.DataFrame(Channel_Statistics)"
   ]
  },
  {
   "cell_type": "code",
   "execution_count": 8,
   "id": "76f2ad1f",
   "metadata": {},
   "outputs": [
    {
     "data": {
      "text/html": [
       "<div>\n",
       "<style scoped>\n",
       "    .dataframe tbody tr th:only-of-type {\n",
       "        vertical-align: middle;\n",
       "    }\n",
       "\n",
       "    .dataframe tbody tr th {\n",
       "        vertical-align: top;\n",
       "    }\n",
       "\n",
       "    .dataframe thead th {\n",
       "        text-align: right;\n",
       "    }\n",
       "</style>\n",
       "<table border=\"1\" class=\"dataframe\">\n",
       "  <thead>\n",
       "    <tr style=\"text-align: right;\">\n",
       "      <th></th>\n",
       "      <th>Channel_Name</th>\n",
       "      <th>Views_Count</th>\n",
       "      <th>Subscriber_Count</th>\n",
       "      <th>videos_posted</th>\n",
       "      <th>playlist_id</th>\n",
       "    </tr>\n",
       "  </thead>\n",
       "  <tbody>\n",
       "    <tr>\n",
       "      <th>0</th>\n",
       "      <td>5 Minutes Engineering</td>\n",
       "      <td>38452090</td>\n",
       "      <td>306000</td>\n",
       "      <td>1399</td>\n",
       "      <td>UUyHta2dyCTkf29AB67AYn7A</td>\n",
       "    </tr>\n",
       "    <tr>\n",
       "      <th>1</th>\n",
       "      <td>Education 4u</td>\n",
       "      <td>113774880</td>\n",
       "      <td>631000</td>\n",
       "      <td>2564</td>\n",
       "      <td>UUKS34cSMNaXaySe2xgXH-3A</td>\n",
       "    </tr>\n",
       "    <tr>\n",
       "      <th>2</th>\n",
       "      <td>KNOWLEDGE GATE</td>\n",
       "      <td>86252607</td>\n",
       "      <td>526000</td>\n",
       "      <td>1210</td>\n",
       "      <td>UUA6yfpYhy5sWMjRGOT-OAIQ</td>\n",
       "    </tr>\n",
       "    <tr>\n",
       "      <th>3</th>\n",
       "      <td>Gate Smashers</td>\n",
       "      <td>139603930</td>\n",
       "      <td>861000</td>\n",
       "      <td>974</td>\n",
       "      <td>UUJihyK0A38SZ6SdJirEdIOw</td>\n",
       "    </tr>\n",
       "    <tr>\n",
       "      <th>4</th>\n",
       "      <td>Neso Academy</td>\n",
       "      <td>315117024</td>\n",
       "      <td>1580000</td>\n",
       "      <td>2211</td>\n",
       "      <td>UUQYMhOMi_Cdj1CEAU-fv80A</td>\n",
       "    </tr>\n",
       "  </tbody>\n",
       "</table>\n",
       "</div>"
      ],
      "text/plain": [
       "            Channel_Name Views_Count Subscriber_Count videos_posted  \\\n",
       "0  5 Minutes Engineering    38452090           306000          1399   \n",
       "1           Education 4u   113774880           631000          2564   \n",
       "2         KNOWLEDGE GATE    86252607           526000          1210   \n",
       "3          Gate Smashers   139603930           861000           974   \n",
       "4           Neso Academy   315117024          1580000          2211   \n",
       "\n",
       "                playlist_id  \n",
       "0  UUyHta2dyCTkf29AB67AYn7A  \n",
       "1  UUKS34cSMNaXaySe2xgXH-3A  \n",
       "2  UUA6yfpYhy5sWMjRGOT-OAIQ  \n",
       "3  UUJihyK0A38SZ6SdJirEdIOw  \n",
       "4  UUQYMhOMi_Cdj1CEAU-fv80A  "
      ]
     },
     "execution_count": 8,
     "metadata": {},
     "output_type": "execute_result"
    }
   ],
   "source": [
    "channel_data"
   ]
  },
  {
   "cell_type": "code",
   "execution_count": 9,
   "id": "7fe9dd8a",
   "metadata": {},
   "outputs": [
    {
     "data": {
      "text/plain": [
       "Channel_Name        object\n",
       "Views_Count         object\n",
       "Subscriber_Count    object\n",
       "videos_posted       object\n",
       "playlist_id         object\n",
       "dtype: object"
      ]
     },
     "execution_count": 9,
     "metadata": {},
     "output_type": "execute_result"
    }
   ],
   "source": [
    "channel_data.dtypes"
   ]
  },
  {
   "cell_type": "code",
   "execution_count": 10,
   "id": "26708b2e",
   "metadata": {},
   "outputs": [],
   "source": [
    "channel_data['Subscriber_Count'] = pd.to_numeric(channel_data['Subscriber_Count'])\n",
    "channel_data['Views_Count'] = pd.to_numeric(channel_data['Views_Count'])\n",
    "channel_data['videos_posted'] = pd.to_numeric(channel_data['videos_posted'])\n",
    "\n",
    "\n"
   ]
  },
  {
   "cell_type": "code",
   "execution_count": 11,
   "id": "be8a41e0",
   "metadata": {},
   "outputs": [
    {
     "data": {
      "text/plain": [
       "Channel_Name        object\n",
       "Views_Count          int64\n",
       "Subscriber_Count     int64\n",
       "videos_posted        int64\n",
       "playlist_id         object\n",
       "dtype: object"
      ]
     },
     "execution_count": 11,
     "metadata": {},
     "output_type": "execute_result"
    }
   ],
   "source": [
    "channel_data.dtypes"
   ]
  },
  {
   "cell_type": "code",
   "execution_count": 12,
   "id": "7f65a737",
   "metadata": {},
   "outputs": [
    {
     "data": {
      "text/html": [
       "<div>\n",
       "<style scoped>\n",
       "    .dataframe tbody tr th:only-of-type {\n",
       "        vertical-align: middle;\n",
       "    }\n",
       "\n",
       "    .dataframe tbody tr th {\n",
       "        vertical-align: top;\n",
       "    }\n",
       "\n",
       "    .dataframe thead th {\n",
       "        text-align: right;\n",
       "    }\n",
       "</style>\n",
       "<table border=\"1\" class=\"dataframe\">\n",
       "  <thead>\n",
       "    <tr style=\"text-align: right;\">\n",
       "      <th></th>\n",
       "      <th>Channel_Name</th>\n",
       "      <th>Views_Count</th>\n",
       "      <th>Subscriber_Count</th>\n",
       "      <th>videos_posted</th>\n",
       "      <th>playlist_id</th>\n",
       "    </tr>\n",
       "  </thead>\n",
       "  <tbody>\n",
       "    <tr>\n",
       "      <th>0</th>\n",
       "      <td>5 Minutes Engineering</td>\n",
       "      <td>38452090</td>\n",
       "      <td>306000</td>\n",
       "      <td>1399</td>\n",
       "      <td>UUyHta2dyCTkf29AB67AYn7A</td>\n",
       "    </tr>\n",
       "    <tr>\n",
       "      <th>2</th>\n",
       "      <td>KNOWLEDGE GATE</td>\n",
       "      <td>86252607</td>\n",
       "      <td>526000</td>\n",
       "      <td>1210</td>\n",
       "      <td>UUA6yfpYhy5sWMjRGOT-OAIQ</td>\n",
       "    </tr>\n",
       "    <tr>\n",
       "      <th>1</th>\n",
       "      <td>Education 4u</td>\n",
       "      <td>113774880</td>\n",
       "      <td>631000</td>\n",
       "      <td>2564</td>\n",
       "      <td>UUKS34cSMNaXaySe2xgXH-3A</td>\n",
       "    </tr>\n",
       "    <tr>\n",
       "      <th>3</th>\n",
       "      <td>Gate Smashers</td>\n",
       "      <td>139603930</td>\n",
       "      <td>861000</td>\n",
       "      <td>974</td>\n",
       "      <td>UUJihyK0A38SZ6SdJirEdIOw</td>\n",
       "    </tr>\n",
       "    <tr>\n",
       "      <th>4</th>\n",
       "      <td>Neso Academy</td>\n",
       "      <td>315117024</td>\n",
       "      <td>1580000</td>\n",
       "      <td>2211</td>\n",
       "      <td>UUQYMhOMi_Cdj1CEAU-fv80A</td>\n",
       "    </tr>\n",
       "  </tbody>\n",
       "</table>\n",
       "</div>"
      ],
      "text/plain": [
       "            Channel_Name  Views_Count  Subscriber_Count  videos_posted  \\\n",
       "0  5 Minutes Engineering     38452090            306000           1399   \n",
       "2         KNOWLEDGE GATE     86252607            526000           1210   \n",
       "1           Education 4u    113774880            631000           2564   \n",
       "3          Gate Smashers    139603930            861000            974   \n",
       "4           Neso Academy    315117024           1580000           2211   \n",
       "\n",
       "                playlist_id  \n",
       "0  UUyHta2dyCTkf29AB67AYn7A  \n",
       "2  UUA6yfpYhy5sWMjRGOT-OAIQ  \n",
       "1  UUKS34cSMNaXaySe2xgXH-3A  \n",
       "3  UUJihyK0A38SZ6SdJirEdIOw  \n",
       "4  UUQYMhOMi_Cdj1CEAU-fv80A  "
      ]
     },
     "execution_count": 12,
     "metadata": {},
     "output_type": "execute_result"
    }
   ],
   "source": [
    "channel_data.sort_values(\"Views_Count\")"
   ]
  },
  {
   "cell_type": "code",
   "execution_count": 13,
   "id": "a551d6d1",
   "metadata": {},
   "outputs": [
    {
     "data": {
      "text/plain": [
       "<AxesSubplot:xlabel='Channel_Name', ylabel='Views_Count'>"
      ]
     },
     "execution_count": 13,
     "metadata": {},
     "output_type": "execute_result"
    },
    {
     "data": {
      "image/png": "[encoded data removed]",
      "text/plain": [
       "<Figure size 720x576 with 1 Axes>"
      ]
     },
     "metadata": {},
     "output_type": "display_data"
    }
   ],
   "source": [
    "sns.set(rc={'figure.figsize':(10,8)})\n",
    "sns.barplot(x='Channel_Name',y='Views_Count',data =channel_data)"
   ]
  },
  {
   "cell_type": "code",
   "execution_count": 14,
   "id": "906a1e9c",
   "metadata": {},
   "outputs": [
    {
     "data": {
      "text/plain": [
       "<AxesSubplot:xlabel='Channel_Name', ylabel='Subscriber_Count'>"
      ]
     },
     "execution_count": 14,
     "metadata": {},
     "output_type": "execute_result"
    },
    {
     "data": {
      "image/png": "[encoded data removed]",
      "text/plain": [
       "<Figure size 720x576 with 1 Axes>"
      ]
     },
     "metadata": {},
     "output_type": "display_data"
    }
   ],
   "source": [
    "sns.set(rc={'figure.figsize':(10,8)})\n",
    "sns.barplot(x='Channel_Name',y='Subscriber_Count',data =channel_data)"
   ]
  },
  {
   "cell_type": "code",
   "execution_count": 15,
   "id": "192c59f7",
   "metadata": {},
   "outputs": [
    {
     "data": {
      "text/plain": [
       "<AxesSubplot:xlabel='Channel_Name', ylabel='videos_posted'>"
      ]
     },
     "execution_count": 15,
     "metadata": {},
     "output_type": "execute_result"
    },
    {
     "data": {
      "image/png": "[encoded data removed]",
      "text/plain": [
       "<Figure size 720x576 with 1 Axes>"
      ]
     },
     "metadata": {},
     "output_type": "display_data"
    }
   ],
   "source": [
    "sns.set(rc={'figure.figsize':(10,8)})\n",
    "sns.barplot(x='Channel_Name',y='videos_posted',data =channel_data)"
   ]
  },
  {
   "cell_type": "markdown",
   "id": "0056f7f9",
   "metadata": {},
   "source": [
    "### Deep Diving into \"Neso Academy\" Statistics as it has highest number of subscribers and views count"
   ]
  },
  {
   "cell_type": "code",
   "execution_count": 16,
   "id": "d6c4e717",
   "metadata": {},
   "outputs": [],
   "source": [
    "playlist_id = channel_data.loc[channel_data['Channel_Name']== 'Neso Academy','playlist_id'].iloc[0]"
   ]
  },
  {
   "cell_type": "code",
   "execution_count": 17,
   "id": "9c67d4b7",
   "metadata": {},
   "outputs": [
    {
     "data": {
      "text/plain": [
       "'UUQYMhOMi_Cdj1CEAU-fv80A'"
      ]
     },
     "execution_count": 17,
     "metadata": {},
     "output_type": "execute_result"
    }
   ],
   "source": [
    "playlist_id"
   ]
  },
  {
   "cell_type": "code",
   "execution_count": 18,
   "id": "6d282e75",
   "metadata": {},
   "outputs": [],
   "source": [
    "def get_video_details(youtube,playlist_id):\n",
    "    request = youtube.playlistItems().list(\n",
    "                part = 'contentDetails',\n",
    "                playlistId = playlist_id,\n",
    "                maxResults=50)\n",
    "    response = request.execute()\n",
    "    video_ids = []\n",
    "    \n",
    "    for video in range(len(response['items'])):\n",
    "        video_ids.append(response['items'][video]['contentDetails']['videoId'])\n",
    "    \n",
    "    next_page_token = response.get('nextPageToken')\n",
    "    more_pages = True\n",
    "    \n",
    "    while more_pages:\n",
    "        if next_page_token is None:\n",
    "            more_pages = False\n",
    "        else:\n",
    "            request = youtube.playlistItems().list(\n",
    "                        part = 'contentDetails',\n",
    "                        playlistId = playlist_id,\n",
    "                        pageToken = next_page_token,\n",
    "                        maxResults=50)\n",
    "            response = request.execute()\n",
    "            \n",
    "            for i in range(len(response['items'])):\n",
    "                video_ids.append(response['items'][i]['contentDetails']['videoId'])\n",
    "            next_page_token = response.get('nextPageToken')\n",
    "            \n",
    "    \n",
    "    return (video_ids)"
   ]
  },
  {
   "cell_type": "code",
   "execution_count": 19,
   "id": "0aa579d2",
   "metadata": {},
   "outputs": [],
   "source": [
    "video_ids = get_video_details(youtube,playlist_id)"
   ]
  },
  {
   "cell_type": "code",
   "execution_count": 20,
   "id": "b8fe7b95",
   "metadata": {},
   "outputs": [
    {
     "data": {
      "text/plain": [
       "2211"
      ]
     },
     "execution_count": 20,
     "metadata": {},
     "output_type": "execute_result"
    }
   ],
   "source": [
    "len(video_ids)"
   ]
  },
  {
   "cell_type": "code",
   "execution_count": 21,
   "id": "104a0e79",
   "metadata": {},
   "outputs": [],
   "source": [
    "def get_video_details(youtube, video_ids):\n",
    "    all_video_stats = []\n",
    "    \n",
    "    for i in range(0, len(video_ids), 50):\n",
    "        request = youtube.videos().list(\n",
    "                    part='snippet,statistics',\n",
    "                    id=','.join(video_ids[i:i+50]))\n",
    "        response = request.execute()\n",
    "        \n",
    "        for video in response['items']:\n",
    "            video_stats = dict(Title = video['snippet']['title'],\n",
    "                               Published_date = video['snippet']['publishedAt'],\n",
    "                               Views = video['statistics']['viewCount'],\n",
    "                               Likes = video['statistics']['likeCount'],\n",
    "                               Comments = video['statistics']['commentCount']\n",
    "                               )\n",
    "            all_video_stats.append(video_stats)\n",
    "    \n",
    "    return all_video_stats"
   ]
  },
  {
   "cell_type": "code",
   "execution_count": 22,
   "id": "60981e42",
   "metadata": {},
   "outputs": [],
   "source": [
    "video_details = get_video_details(youtube, video_ids)"
   ]
  },
  {
   "cell_type": "code",
   "execution_count": 23,
   "id": "d5b744bc",
   "metadata": {},
   "outputs": [],
   "source": [
    "video_data = pd.DataFrame(video_details)"
   ]
  },
  {
   "cell_type": "code",
   "execution_count": 24,
   "id": "bfddb990",
   "metadata": {},
   "outputs": [
    {
     "data": {
      "text/html": [
       "<div>\n",
       "<style scoped>\n",
       "    .dataframe tbody tr th:only-of-type {\n",
       "        vertical-align: middle;\n",
       "    }\n",
       "\n",
       "    .dataframe tbody tr th {\n",
       "        vertical-align: top;\n",
       "    }\n",
       "\n",
       "    .dataframe thead th {\n",
       "        text-align: right;\n",
       "    }\n",
       "</style>\n",
       "<table border=\"1\" class=\"dataframe\">\n",
       "  <thead>\n",
       "    <tr style=\"text-align: right;\">\n",
       "      <th></th>\n",
       "      <th>Title</th>\n",
       "      <th>Published_date</th>\n",
       "      <th>Views</th>\n",
       "      <th>Likes</th>\n",
       "      <th>Comments</th>\n",
       "    </tr>\n",
       "  </thead>\n",
       "  <tbody>\n",
       "    <tr>\n",
       "      <th>0</th>\n",
       "      <td>Lexical Analyzer (Solved Problems) - Set 1</td>\n",
       "      <td>2022-04-16T13:30:09Z</td>\n",
       "      <td>1306</td>\n",
       "      <td>30</td>\n",
       "      <td>0</td>\n",
       "    </tr>\n",
       "    <tr>\n",
       "      <th>1</th>\n",
       "      <td>Lexical Analyzer – Tokenization</td>\n",
       "      <td>2022-04-14T13:30:12Z</td>\n",
       "      <td>3249</td>\n",
       "      <td>70</td>\n",
       "      <td>5</td>\n",
       "    </tr>\n",
       "    <tr>\n",
       "      <th>2</th>\n",
       "      <td>Introduction to Microsoft Excel</td>\n",
       "      <td>2022-04-10T17:01:32Z</td>\n",
       "      <td>14238</td>\n",
       "      <td>426</td>\n",
       "      <td>30</td>\n",
       "    </tr>\n",
       "    <tr>\n",
       "      <th>3</th>\n",
       "      <td>Introduction to Lexical Analyzer</td>\n",
       "      <td>2022-04-08T17:00:01Z</td>\n",
       "      <td>4116</td>\n",
       "      <td>85</td>\n",
       "      <td>9</td>\n",
       "    </tr>\n",
       "    <tr>\n",
       "      <th>4</th>\n",
       "      <td>Symbol Table – Solved PYQs</td>\n",
       "      <td>2022-04-05T16:45:02Z</td>\n",
       "      <td>4649</td>\n",
       "      <td>56</td>\n",
       "      <td>7</td>\n",
       "    </tr>\n",
       "    <tr>\n",
       "      <th>...</th>\n",
       "      <td>...</td>\n",
       "      <td>...</td>\n",
       "      <td>...</td>\n",
       "      <td>...</td>\n",
       "      <td>...</td>\n",
       "    </tr>\n",
       "    <tr>\n",
       "      <th>2206</th>\n",
       "      <td>Karnaugh Map (K' Map) - Part 1</td>\n",
       "      <td>2014-09-02T16:18:34Z</td>\n",
       "      <td>1315040</td>\n",
       "      <td>15323</td>\n",
       "      <td>695</td>\n",
       "    </tr>\n",
       "    <tr>\n",
       "      <th>2207</th>\n",
       "      <td>Gray Code to Binary &amp; Binary to Gray Code conv...</td>\n",
       "      <td>2014-08-29T14:16:23Z</td>\n",
       "      <td>147275</td>\n",
       "      <td>849</td>\n",
       "      <td>86</td>\n",
       "    </tr>\n",
       "    <tr>\n",
       "      <th>2208</th>\n",
       "      <td>Excess 3 Code (XS 3 Code) Old</td>\n",
       "      <td>2014-08-29T14:14:27Z</td>\n",
       "      <td>68073</td>\n",
       "      <td>266</td>\n",
       "      <td>13</td>\n",
       "    </tr>\n",
       "    <tr>\n",
       "      <th>2209</th>\n",
       "      <td>Binary Coded Decimal (BCD Code)</td>\n",
       "      <td>2014-08-29T14:12:28Z</td>\n",
       "      <td>243978</td>\n",
       "      <td>1180</td>\n",
       "      <td>62</td>\n",
       "    </tr>\n",
       "    <tr>\n",
       "      <th>2210</th>\n",
       "      <td>Neso Academy Introduction Video</td>\n",
       "      <td>2014-07-30T18:31:03Z</td>\n",
       "      <td>52992</td>\n",
       "      <td>262</td>\n",
       "      <td>40</td>\n",
       "    </tr>\n",
       "  </tbody>\n",
       "</table>\n",
       "<p>2211 rows × 5 columns</p>\n",
       "</div>"
      ],
      "text/plain": [
       "                                                  Title        Published_date  \\\n",
       "0            Lexical Analyzer (Solved Problems) - Set 1  2022-04-16T13:30:09Z   \n",
       "1                       Lexical Analyzer – Tokenization  2022-04-14T13:30:12Z   \n",
       "2                       Introduction to Microsoft Excel  2022-04-10T17:01:32Z   \n",
       "3                      Introduction to Lexical Analyzer  2022-04-08T17:00:01Z   \n",
       "4                            Symbol Table – Solved PYQs  2022-04-05T16:45:02Z   \n",
       "...                                                 ...                   ...   \n",
       "2206                     Karnaugh Map (K' Map) - Part 1  2014-09-02T16:18:34Z   \n",
       "2207  Gray Code to Binary & Binary to Gray Code conv...  2014-08-29T14:16:23Z   \n",
       "2208                      Excess 3 Code (XS 3 Code) Old  2014-08-29T14:14:27Z   \n",
       "2209                    Binary Coded Decimal (BCD Code)  2014-08-29T14:12:28Z   \n",
       "2210                    Neso Academy Introduction Video  2014-07-30T18:31:03Z   \n",
       "\n",
       "        Views  Likes Comments  \n",
       "0        1306     30        0  \n",
       "1        3249     70        5  \n",
       "2       14238    426       30  \n",
       "3        4116     85        9  \n",
       "4        4649     56        7  \n",
       "...       ...    ...      ...  \n",
       "2206  1315040  15323      695  \n",
       "2207   147275    849       86  \n",
       "2208    68073    266       13  \n",
       "2209   243978   1180       62  \n",
       "2210    52992    262       40  \n",
       "\n",
       "[2211 rows x 5 columns]"
      ]
     },
     "execution_count": 24,
     "metadata": {},
     "output_type": "execute_result"
    }
   ],
   "source": [
    "video_data"
   ]
  },
  {
   "cell_type": "code",
   "execution_count": 25,
   "id": "12a08bdd",
   "metadata": {},
   "outputs": [
    {
     "data": {
      "text/html": [
       "<div>\n",
       "<style scoped>\n",
       "    .dataframe tbody tr th:only-of-type {\n",
       "        vertical-align: middle;\n",
       "    }\n",
       "\n",
       "    .dataframe tbody tr th {\n",
       "        vertical-align: top;\n",
       "    }\n",
       "\n",
       "    .dataframe thead th {\n",
       "        text-align: right;\n",
       "    }\n",
       "</style>\n",
       "<table border=\"1\" class=\"dataframe\">\n",
       "  <thead>\n",
       "    <tr style=\"text-align: right;\">\n",
       "      <th></th>\n",
       "      <th>Title</th>\n",
       "      <th>Published_date</th>\n",
       "      <th>Views</th>\n",
       "      <th>Likes</th>\n",
       "      <th>Comments</th>\n",
       "    </tr>\n",
       "  </thead>\n",
       "  <tbody>\n",
       "    <tr>\n",
       "      <th>0</th>\n",
       "      <td>Lexical Analyzer (Solved Problems) - Set 1</td>\n",
       "      <td>2022-04-16</td>\n",
       "      <td>1306</td>\n",
       "      <td>30</td>\n",
       "      <td>0</td>\n",
       "    </tr>\n",
       "    <tr>\n",
       "      <th>1</th>\n",
       "      <td>Lexical Analyzer – Tokenization</td>\n",
       "      <td>2022-04-14</td>\n",
       "      <td>3249</td>\n",
       "      <td>70</td>\n",
       "      <td>5</td>\n",
       "    </tr>\n",
       "    <tr>\n",
       "      <th>2</th>\n",
       "      <td>Introduction to Microsoft Excel</td>\n",
       "      <td>2022-04-10</td>\n",
       "      <td>14238</td>\n",
       "      <td>426</td>\n",
       "      <td>30</td>\n",
       "    </tr>\n",
       "    <tr>\n",
       "      <th>3</th>\n",
       "      <td>Introduction to Lexical Analyzer</td>\n",
       "      <td>2022-04-08</td>\n",
       "      <td>4116</td>\n",
       "      <td>85</td>\n",
       "      <td>9</td>\n",
       "    </tr>\n",
       "    <tr>\n",
       "      <th>4</th>\n",
       "      <td>Symbol Table – Solved PYQs</td>\n",
       "      <td>2022-04-05</td>\n",
       "      <td>4649</td>\n",
       "      <td>56</td>\n",
       "      <td>7</td>\n",
       "    </tr>\n",
       "    <tr>\n",
       "      <th>...</th>\n",
       "      <td>...</td>\n",
       "      <td>...</td>\n",
       "      <td>...</td>\n",
       "      <td>...</td>\n",
       "      <td>...</td>\n",
       "    </tr>\n",
       "    <tr>\n",
       "      <th>2206</th>\n",
       "      <td>Karnaugh Map (K' Map) - Part 1</td>\n",
       "      <td>2014-09-02</td>\n",
       "      <td>1315040</td>\n",
       "      <td>15323</td>\n",
       "      <td>695</td>\n",
       "    </tr>\n",
       "    <tr>\n",
       "      <th>2207</th>\n",
       "      <td>Gray Code to Binary &amp; Binary to Gray Code conv...</td>\n",
       "      <td>2014-08-29</td>\n",
       "      <td>147275</td>\n",
       "      <td>849</td>\n",
       "      <td>86</td>\n",
       "    </tr>\n",
       "    <tr>\n",
       "      <th>2208</th>\n",
       "      <td>Excess 3 Code (XS 3 Code) Old</td>\n",
       "      <td>2014-08-29</td>\n",
       "      <td>68073</td>\n",
       "      <td>266</td>\n",
       "      <td>13</td>\n",
       "    </tr>\n",
       "    <tr>\n",
       "      <th>2209</th>\n",
       "      <td>Binary Coded Decimal (BCD Code)</td>\n",
       "      <td>2014-08-29</td>\n",
       "      <td>243978</td>\n",
       "      <td>1180</td>\n",
       "      <td>62</td>\n",
       "    </tr>\n",
       "    <tr>\n",
       "      <th>2210</th>\n",
       "      <td>Neso Academy Introduction Video</td>\n",
       "      <td>2014-07-30</td>\n",
       "      <td>52992</td>\n",
       "      <td>262</td>\n",
       "      <td>40</td>\n",
       "    </tr>\n",
       "  </tbody>\n",
       "</table>\n",
       "<p>2211 rows × 5 columns</p>\n",
       "</div>"
      ],
      "text/plain": [
       "                                                  Title Published_date  \\\n",
       "0            Lexical Analyzer (Solved Problems) - Set 1     2022-04-16   \n",
       "1                       Lexical Analyzer – Tokenization     2022-04-14   \n",
       "2                       Introduction to Microsoft Excel     2022-04-10   \n",
       "3                      Introduction to Lexical Analyzer     2022-04-08   \n",
       "4                            Symbol Table – Solved PYQs     2022-04-05   \n",
       "...                                                 ...            ...   \n",
       "2206                     Karnaugh Map (K' Map) - Part 1     2014-09-02   \n",
       "2207  Gray Code to Binary & Binary to Gray Code conv...     2014-08-29   \n",
       "2208                      Excess 3 Code (XS 3 Code) Old     2014-08-29   \n",
       "2209                    Binary Coded Decimal (BCD Code)     2014-08-29   \n",
       "2210                    Neso Academy Introduction Video     2014-07-30   \n",
       "\n",
       "        Views  Likes Comments  \n",
       "0        1306     30        0  \n",
       "1        3249     70        5  \n",
       "2       14238    426       30  \n",
       "3        4116     85        9  \n",
       "4        4649     56        7  \n",
       "...       ...    ...      ...  \n",
       "2206  1315040  15323      695  \n",
       "2207   147275    849       86  \n",
       "2208    68073    266       13  \n",
       "2209   243978   1180       62  \n",
       "2210    52992    262       40  \n",
       "\n",
       "[2211 rows x 5 columns]"
      ]
     },
     "execution_count": 25,
     "metadata": {},
     "output_type": "execute_result"
    }
   ],
   "source": [
    "video_data['Published_date'] = pd.to_datetime(video_data['Published_date']).dt.date\n",
    "video_data['Views'] = pd.to_numeric(video_data['Views'])\n",
    "video_data['Likes'] = pd.to_numeric(video_data['Likes'])\n",
    "video_data['Views'] = pd.to_numeric(video_data['Views'])\n",
    "video_data"
   ]
  },
  {
   "cell_type": "code",
   "execution_count": 26,
   "id": "209474c5",
   "metadata": {},
   "outputs": [],
   "source": [
    "top10_videos = video_data.sort_values(by='Views', ascending=False).head(10)"
   ]
  },
  {
   "cell_type": "code",
   "execution_count": 27,
   "id": "ee7fe883",
   "metadata": {},
   "outputs": [
    {
     "data": {
      "text/html": [
       "<div>\n",
       "<style scoped>\n",
       "    .dataframe tbody tr th:only-of-type {\n",
       "        vertical-align: middle;\n",
       "    }\n",
       "\n",
       "    .dataframe tbody tr th {\n",
       "        vertical-align: top;\n",
       "    }\n",
       "\n",
       "    .dataframe thead th {\n",
       "        text-align: right;\n",
       "    }\n",
       "</style>\n",
       "<table border=\"1\" class=\"dataframe\">\n",
       "  <thead>\n",
       "    <tr style=\"text-align: right;\">\n",
       "      <th></th>\n",
       "      <th>Title</th>\n",
       "      <th>Published_date</th>\n",
       "      <th>Views</th>\n",
       "      <th>Likes</th>\n",
       "      <th>Comments</th>\n",
       "    </tr>\n",
       "  </thead>\n",
       "  <tbody>\n",
       "    <tr>\n",
       "      <th>2092</th>\n",
       "      <td>What is Signal?</td>\n",
       "      <td>2015-03-29</td>\n",
       "      <td>2809989</td>\n",
       "      <td>12180</td>\n",
       "      <td>542</td>\n",
       "    </tr>\n",
       "    <tr>\n",
       "      <th>2068</th>\n",
       "      <td>SR Latch | NOR and NAND SR Latch</td>\n",
       "      <td>2015-04-20</td>\n",
       "      <td>2660761</td>\n",
       "      <td>27590</td>\n",
       "      <td>1627</td>\n",
       "    </tr>\n",
       "    <tr>\n",
       "      <th>2138</th>\n",
       "      <td>Introduction to SR Flip Flop</td>\n",
       "      <td>2015-02-09</td>\n",
       "      <td>2331150</td>\n",
       "      <td>14023</td>\n",
       "      <td>400</td>\n",
       "    </tr>\n",
       "    <tr>\n",
       "      <th>2134</th>\n",
       "      <td>Introduction to JK flip flop</td>\n",
       "      <td>2015-02-18</td>\n",
       "      <td>1888217</td>\n",
       "      <td>12511</td>\n",
       "      <td>390</td>\n",
       "    </tr>\n",
       "    <tr>\n",
       "      <th>1751</th>\n",
       "      <td>Introduction to Theory of Computation</td>\n",
       "      <td>2016-12-15</td>\n",
       "      <td>1882337</td>\n",
       "      <td>12218</td>\n",
       "      <td>413</td>\n",
       "    </tr>\n",
       "    <tr>\n",
       "      <th>2164</th>\n",
       "      <td>Introduction to Multiplexers | MUX Basic</td>\n",
       "      <td>2014-12-06</td>\n",
       "      <td>1861214</td>\n",
       "      <td>14969</td>\n",
       "      <td>443</td>\n",
       "    </tr>\n",
       "    <tr>\n",
       "      <th>2142</th>\n",
       "      <td>Introduction to Sequential Circuits | Important</td>\n",
       "      <td>2015-02-01</td>\n",
       "      <td>1745505</td>\n",
       "      <td>13529</td>\n",
       "      <td>311</td>\n",
       "    </tr>\n",
       "    <tr>\n",
       "      <th>2149</th>\n",
       "      <td>Introduction to Encoders and Decoders</td>\n",
       "      <td>2015-01-23</td>\n",
       "      <td>1639261</td>\n",
       "      <td>11518</td>\n",
       "      <td>218</td>\n",
       "    </tr>\n",
       "    <tr>\n",
       "      <th>2136</th>\n",
       "      <td>Introduction to D flip flop</td>\n",
       "      <td>2015-02-09</td>\n",
       "      <td>1552966</td>\n",
       "      <td>8075</td>\n",
       "      <td>230</td>\n",
       "    </tr>\n",
       "    <tr>\n",
       "      <th>2184</th>\n",
       "      <td>Full Adder</td>\n",
       "      <td>2014-10-20</td>\n",
       "      <td>1506700</td>\n",
       "      <td>11893</td>\n",
       "      <td>320</td>\n",
       "    </tr>\n",
       "  </tbody>\n",
       "</table>\n",
       "</div>"
      ],
      "text/plain": [
       "                                                Title Published_date    Views  \\\n",
       "2092                                  What is Signal?     2015-03-29  2809989   \n",
       "2068                 SR Latch | NOR and NAND SR Latch     2015-04-20  2660761   \n",
       "2138                     Introduction to SR Flip Flop     2015-02-09  2331150   \n",
       "2134                     Introduction to JK flip flop     2015-02-18  1888217   \n",
       "1751            Introduction to Theory of Computation     2016-12-15  1882337   \n",
       "2164         Introduction to Multiplexers | MUX Basic     2014-12-06  1861214   \n",
       "2142  Introduction to Sequential Circuits | Important     2015-02-01  1745505   \n",
       "2149            Introduction to Encoders and Decoders     2015-01-23  1639261   \n",
       "2136                      Introduction to D flip flop     2015-02-09  1552966   \n",
       "2184                                       Full Adder     2014-10-20  1506700   \n",
       "\n",
       "      Likes Comments  \n",
       "2092  12180      542  \n",
       "2068  27590     1627  \n",
       "2138  14023      400  \n",
       "2134  12511      390  \n",
       "1751  12218      413  \n",
       "2164  14969      443  \n",
       "2142  13529      311  \n",
       "2149  11518      218  \n",
       "2136   8075      230  \n",
       "2184  11893      320  "
      ]
     },
     "execution_count": 27,
     "metadata": {},
     "output_type": "execute_result"
    }
   ],
   "source": [
    "top10_videos"
   ]
  },
  {
   "cell_type": "code",
   "execution_count": 28,
   "id": "100f71d6",
   "metadata": {},
   "outputs": [
    {
     "data": {
      "image/png": "[encoded data removed]",
      "text/plain": [
       "<Figure size 720x576 with 1 Axes>"
      ]
     },
     "metadata": {},
     "output_type": "display_data"
    }
   ],
   "source": [
    "ax1 = sns.barplot(x='Views', y='Title', data=top10_videos)"
   ]
  },
  {
   "cell_type": "code",
   "execution_count": 29,
   "id": "68e0857e",
   "metadata": {},
   "outputs": [],
   "source": [
    "video_data['Month'] = pd.to_datetime(video_data['Published_date']).dt.strftime('%b')"
   ]
  },
  {
   "cell_type": "code",
   "execution_count": 30,
   "id": "a24d9e3c",
   "metadata": {},
   "outputs": [
    {
     "data": {
      "text/html": [
       "<div>\n",
       "<style scoped>\n",
       "    .dataframe tbody tr th:only-of-type {\n",
       "        vertical-align: middle;\n",
       "    }\n",
       "\n",
       "    .dataframe tbody tr th {\n",
       "        vertical-align: top;\n",
       "    }\n",
       "\n",
       "    .dataframe thead th {\n",
       "        text-align: right;\n",
       "    }\n",
       "</style>\n",
       "<table border=\"1\" class=\"dataframe\">\n",
       "  <thead>\n",
       "    <tr style=\"text-align: right;\">\n",
       "      <th></th>\n",
       "      <th>Title</th>\n",
       "      <th>Published_date</th>\n",
       "      <th>Views</th>\n",
       "      <th>Likes</th>\n",
       "      <th>Comments</th>\n",
       "      <th>Month</th>\n",
       "    </tr>\n",
       "  </thead>\n",
       "  <tbody>\n",
       "    <tr>\n",
       "      <th>0</th>\n",
       "      <td>Lexical Analyzer (Solved Problems) - Set 1</td>\n",
       "      <td>2022-04-16</td>\n",
       "      <td>1306</td>\n",
       "      <td>30</td>\n",
       "      <td>0</td>\n",
       "      <td>Apr</td>\n",
       "    </tr>\n",
       "    <tr>\n",
       "      <th>1</th>\n",
       "      <td>Lexical Analyzer – Tokenization</td>\n",
       "      <td>2022-04-14</td>\n",
       "      <td>3249</td>\n",
       "      <td>70</td>\n",
       "      <td>5</td>\n",
       "      <td>Apr</td>\n",
       "    </tr>\n",
       "    <tr>\n",
       "      <th>2</th>\n",
       "      <td>Introduction to Microsoft Excel</td>\n",
       "      <td>2022-04-10</td>\n",
       "      <td>14238</td>\n",
       "      <td>426</td>\n",
       "      <td>30</td>\n",
       "      <td>Apr</td>\n",
       "    </tr>\n",
       "    <tr>\n",
       "      <th>3</th>\n",
       "      <td>Introduction to Lexical Analyzer</td>\n",
       "      <td>2022-04-08</td>\n",
       "      <td>4116</td>\n",
       "      <td>85</td>\n",
       "      <td>9</td>\n",
       "      <td>Apr</td>\n",
       "    </tr>\n",
       "    <tr>\n",
       "      <th>4</th>\n",
       "      <td>Symbol Table – Solved PYQs</td>\n",
       "      <td>2022-04-05</td>\n",
       "      <td>4649</td>\n",
       "      <td>56</td>\n",
       "      <td>7</td>\n",
       "      <td>Apr</td>\n",
       "    </tr>\n",
       "    <tr>\n",
       "      <th>...</th>\n",
       "      <td>...</td>\n",
       "      <td>...</td>\n",
       "      <td>...</td>\n",
       "      <td>...</td>\n",
       "      <td>...</td>\n",
       "      <td>...</td>\n",
       "    </tr>\n",
       "    <tr>\n",
       "      <th>2206</th>\n",
       "      <td>Karnaugh Map (K' Map) - Part 1</td>\n",
       "      <td>2014-09-02</td>\n",
       "      <td>1315040</td>\n",
       "      <td>15323</td>\n",
       "      <td>695</td>\n",
       "      <td>Sep</td>\n",
       "    </tr>\n",
       "    <tr>\n",
       "      <th>2207</th>\n",
       "      <td>Gray Code to Binary &amp; Binary to Gray Code conv...</td>\n",
       "      <td>2014-08-29</td>\n",
       "      <td>147275</td>\n",
       "      <td>849</td>\n",
       "      <td>86</td>\n",
       "      <td>Aug</td>\n",
       "    </tr>\n",
       "    <tr>\n",
       "      <th>2208</th>\n",
       "      <td>Excess 3 Code (XS 3 Code) Old</td>\n",
       "      <td>2014-08-29</td>\n",
       "      <td>68073</td>\n",
       "      <td>266</td>\n",
       "      <td>13</td>\n",
       "      <td>Aug</td>\n",
       "    </tr>\n",
       "    <tr>\n",
       "      <th>2209</th>\n",
       "      <td>Binary Coded Decimal (BCD Code)</td>\n",
       "      <td>2014-08-29</td>\n",
       "      <td>243978</td>\n",
       "      <td>1180</td>\n",
       "      <td>62</td>\n",
       "      <td>Aug</td>\n",
       "    </tr>\n",
       "    <tr>\n",
       "      <th>2210</th>\n",
       "      <td>Neso Academy Introduction Video</td>\n",
       "      <td>2014-07-30</td>\n",
       "      <td>52992</td>\n",
       "      <td>262</td>\n",
       "      <td>40</td>\n",
       "      <td>Jul</td>\n",
       "    </tr>\n",
       "  </tbody>\n",
       "</table>\n",
       "<p>2211 rows × 6 columns</p>\n",
       "</div>"
      ],
      "text/plain": [
       "                                                  Title Published_date  \\\n",
       "0            Lexical Analyzer (Solved Problems) - Set 1     2022-04-16   \n",
       "1                       Lexical Analyzer – Tokenization     2022-04-14   \n",
       "2                       Introduction to Microsoft Excel     2022-04-10   \n",
       "3                      Introduction to Lexical Analyzer     2022-04-08   \n",
       "4                            Symbol Table – Solved PYQs     2022-04-05   \n",
       "...                                                 ...            ...   \n",
       "2206                     Karnaugh Map (K' Map) - Part 1     2014-09-02   \n",
       "2207  Gray Code to Binary & Binary to Gray Code conv...     2014-08-29   \n",
       "2208                      Excess 3 Code (XS 3 Code) Old     2014-08-29   \n",
       "2209                    Binary Coded Decimal (BCD Code)     2014-08-29   \n",
       "2210                    Neso Academy Introduction Video     2014-07-30   \n",
       "\n",
       "        Views  Likes Comments Month  \n",
       "0        1306     30        0   Apr  \n",
       "1        3249     70        5   Apr  \n",
       "2       14238    426       30   Apr  \n",
       "3        4116     85        9   Apr  \n",
       "4        4649     56        7   Apr  \n",
       "...       ...    ...      ...   ...  \n",
       "2206  1315040  15323      695   Sep  \n",
       "2207   147275    849       86   Aug  \n",
       "2208    68073    266       13   Aug  \n",
       "2209   243978   1180       62   Aug  \n",
       "2210    52992    262       40   Jul  \n",
       "\n",
       "[2211 rows x 6 columns]"
      ]
     },
     "execution_count": 30,
     "metadata": {},
     "output_type": "execute_result"
    }
   ],
   "source": [
    "video_data"
   ]
  },
  {
   "cell_type": "code",
   "execution_count": 31,
   "id": "55422b41",
   "metadata": {},
   "outputs": [],
   "source": [
    "videos_per_month = video_data.groupby('Month', as_index=False).size()"
   ]
  },
  {
   "cell_type": "code",
   "execution_count": 32,
   "id": "5bf811ea",
   "metadata": {},
   "outputs": [
    {
     "data": {
      "text/html": [
       "<div>\n",
       "<style scoped>\n",
       "    .dataframe tbody tr th:only-of-type {\n",
       "        vertical-align: middle;\n",
       "    }\n",
       "\n",
       "    .dataframe tbody tr th {\n",
       "        vertical-align: top;\n",
       "    }\n",
       "\n",
       "    .dataframe thead th {\n",
       "        text-align: right;\n",
       "    }\n",
       "</style>\n",
       "<table border=\"1\" class=\"dataframe\">\n",
       "  <thead>\n",
       "    <tr style=\"text-align: right;\">\n",
       "      <th></th>\n",
       "      <th>Month</th>\n",
       "      <th>size</th>\n",
       "    </tr>\n",
       "  </thead>\n",
       "  <tbody>\n",
       "    <tr>\n",
       "      <th>0</th>\n",
       "      <td>Apr</td>\n",
       "      <td>217</td>\n",
       "    </tr>\n",
       "    <tr>\n",
       "      <th>1</th>\n",
       "      <td>Aug</td>\n",
       "      <td>193</td>\n",
       "    </tr>\n",
       "    <tr>\n",
       "      <th>2</th>\n",
       "      <td>Dec</td>\n",
       "      <td>149</td>\n",
       "    </tr>\n",
       "    <tr>\n",
       "      <th>3</th>\n",
       "      <td>Feb</td>\n",
       "      <td>136</td>\n",
       "    </tr>\n",
       "    <tr>\n",
       "      <th>4</th>\n",
       "      <td>Jan</td>\n",
       "      <td>178</td>\n",
       "    </tr>\n",
       "    <tr>\n",
       "      <th>5</th>\n",
       "      <td>Jul</td>\n",
       "      <td>208</td>\n",
       "    </tr>\n",
       "    <tr>\n",
       "      <th>6</th>\n",
       "      <td>Jun</td>\n",
       "      <td>185</td>\n",
       "    </tr>\n",
       "    <tr>\n",
       "      <th>7</th>\n",
       "      <td>Mar</td>\n",
       "      <td>224</td>\n",
       "    </tr>\n",
       "    <tr>\n",
       "      <th>8</th>\n",
       "      <td>May</td>\n",
       "      <td>207</td>\n",
       "    </tr>\n",
       "    <tr>\n",
       "      <th>9</th>\n",
       "      <td>Nov</td>\n",
       "      <td>157</td>\n",
       "    </tr>\n",
       "    <tr>\n",
       "      <th>10</th>\n",
       "      <td>Oct</td>\n",
       "      <td>193</td>\n",
       "    </tr>\n",
       "    <tr>\n",
       "      <th>11</th>\n",
       "      <td>Sep</td>\n",
       "      <td>164</td>\n",
       "    </tr>\n",
       "  </tbody>\n",
       "</table>\n",
       "</div>"
      ],
      "text/plain": [
       "   Month  size\n",
       "0    Apr   217\n",
       "1    Aug   193\n",
       "2    Dec   149\n",
       "3    Feb   136\n",
       "4    Jan   178\n",
       "5    Jul   208\n",
       "6    Jun   185\n",
       "7    Mar   224\n",
       "8    May   207\n",
       "9    Nov   157\n",
       "10   Oct   193\n",
       "11   Sep   164"
      ]
     },
     "execution_count": 32,
     "metadata": {},
     "output_type": "execute_result"
    }
   ],
   "source": [
    "videos_per_month"
   ]
  },
  {
   "cell_type": "code",
   "execution_count": 33,
   "id": "4f9070be",
   "metadata": {},
   "outputs": [],
   "source": [
    "sort_order = ['Jan', 'Feb', 'Mar', 'Apr', 'May', 'Jun',\n",
    "             'Jul', 'Aug', 'Sep', 'Oct', 'Nov', 'Dec']"
   ]
  },
  {
   "cell_type": "code",
   "execution_count": 34,
   "id": "eab624a7",
   "metadata": {},
   "outputs": [],
   "source": [
    "videos_per_month.index = pd.CategoricalIndex(videos_per_month['Month'], categories=sort_order, ordered=True)"
   ]
  },
  {
   "cell_type": "code",
   "execution_count": 35,
   "id": "cd573754",
   "metadata": {},
   "outputs": [],
   "source": [
    "videos_per_month = videos_per_month.sort_index()"
   ]
  },
  {
   "cell_type": "code",
   "execution_count": 36,
   "id": "d76e42b6",
   "metadata": {},
   "outputs": [
    {
     "data": {
      "image/png": "[encoded data removed]",
      "text/plain": [
       "<Figure size 720x576 with 1 Axes>"
      ]
     },
     "metadata": {},
     "output_type": "display_data"
    }
   ],
   "source": [
    "ax2 = sns.barplot(x='Month', y='size', data=videos_per_month)"
   ]
  },
  {
   "cell_type": "code",
   "execution_count": 37,
   "id": "643f3ae4",
   "metadata": {},
   "outputs": [],
   "source": [
    "video_data.to_csv('Video_Details(Neso Academy).csv')"
   ]
  },
  {
   "cell_type": "markdown",
   "id": "dbd66cf5",
   "metadata": {},
   "source": [
    "# Author : Kaustubh Dwivedi (VIT Vellore : 2019-2023)"
   ]
  }
 ],
 "metadata": {
  "kernelspec": {
   "display_name": "Python 3 (ipykernel)",
   "language": "python",
   "name": "python3"
  },
  "language_info": {
   "codemirror_mode": {
    "name": "ipython",
    "version": 3
   },
   "file_extension": ".py",
   "mimetype": "text/x-python",
   "name": "python",
   "nbconvert_exporter": "python",
   "pygments_lexer": "ipython3",
   "version": "3.9.7"
  }
 },
 "nbformat": 4,
 "nbformat_minor": 5
}
